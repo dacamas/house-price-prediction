{
 "cells": [
  {
   "cell_type": "code",
   "execution_count": 8,
   "id": "34900e0e",
   "metadata": {
    "scrolled": true
   },
   "outputs": [
    {
     "name": "stdout",
     "output_type": "stream",
     "text": [
      "Extracted files: ['.ipynb_checkpoints', 'dir_archive.ini', 'm_ef92e6258b8f7992.0000', 'm_ef92e6258b8f7992.frame_idx', 'm_ef92e6258b8f7992.sidx', 'objects.bin', '__MACOSX']\n",
      "PROGRESS: Creating a validation set from 5 percent of training data. This may take a while.\n",
      "          You can set ``validation_set=None`` to disable validation tracking.\n",
      "\n"
     ]
    },
    {
     "data": {
      "text/html": [
       "<pre>Linear regression:</pre>"
      ],
      "text/plain": [
       "Linear regression:"
      ]
     },
     "metadata": {},
     "output_type": "display_data"
    },
    {
     "data": {
      "text/html": [
       "<pre>--------------------------------------------------------</pre>"
      ],
      "text/plain": [
       "--------------------------------------------------------"
      ]
     },
     "metadata": {},
     "output_type": "display_data"
    },
    {
     "data": {
      "text/html": [
       "<pre>Number of examples          : 8267</pre>"
      ],
      "text/plain": [
       "Number of examples          : 8267"
      ]
     },
     "metadata": {},
     "output_type": "display_data"
    },
    {
     "data": {
      "text/html": [
       "<pre>Number of features          : 19</pre>"
      ],
      "text/plain": [
       "Number of features          : 19"
      ]
     },
     "metadata": {},
     "output_type": "display_data"
    },
    {
     "data": {
      "text/html": [
       "<pre>Number of unpacked features : 19</pre>"
      ],
      "text/plain": [
       "Number of unpacked features : 19"
      ]
     },
     "metadata": {},
     "output_type": "display_data"
    },
    {
     "data": {
      "text/html": [
       "<pre>Number of coefficients    : 8330</pre>"
      ],
      "text/plain": [
       "Number of coefficients    : 8330"
      ]
     },
     "metadata": {},
     "output_type": "display_data"
    },
    {
     "data": {
      "text/html": [
       "<pre>Starting L-BFGS</pre>"
      ],
      "text/plain": [
       "Starting L-BFGS"
      ]
     },
     "metadata": {},
     "output_type": "display_data"
    },
    {
     "data": {
      "text/html": [
       "<pre>--------------------------------------------------------</pre>"
      ],
      "text/plain": [
       "--------------------------------------------------------"
      ]
     },
     "metadata": {},
     "output_type": "display_data"
    },
    {
     "data": {
      "text/html": [
       "<pre>+-----------+----------+-----------+--------------+--------------------+----------------------+---------------------------------+-----------------------------------+</pre>"
      ],
      "text/plain": [
       "+-----------+----------+-----------+--------------+--------------------+----------------------+---------------------------------+-----------------------------------+"
      ]
     },
     "metadata": {},
     "output_type": "display_data"
    },
    {
     "data": {
      "text/html": [
       "<pre>| Iteration | Passes   | Step size | Elapsed Time | Training Max Error | Validation Max Error | Training Root-Mean-Square Error | Validation Root-Mean-Square Error |</pre>"
      ],
      "text/plain": [
       "| Iteration | Passes   | Step size | Elapsed Time | Training Max Error | Validation Max Error | Training Root-Mean-Square Error | Validation Root-Mean-Square Error |"
      ]
     },
     "metadata": {},
     "output_type": "display_data"
    },
    {
     "data": {
      "text/html": [
       "<pre>+-----------+----------+-----------+--------------+--------------------+----------------------+---------------------------------+-----------------------------------+</pre>"
      ],
      "text/plain": [
       "+-----------+----------+-----------+--------------+--------------------+----------------------+---------------------------------+-----------------------------------+"
      ]
     },
     "metadata": {},
     "output_type": "display_data"
    },
    {
     "data": {
      "text/html": [
       "<pre>Warning: Reached max step size.</pre>"
      ],
      "text/plain": [
       "Warning: Reached max step size."
      ]
     },
     "metadata": {},
     "output_type": "display_data"
    },
    {
     "data": {
      "text/html": [
       "<pre>| 0         | 5        | 25.000000 | 0.061145     | 7699999.996750     | 3640899.998239       | 652048.842838                   | 645456.622353                     |</pre>"
      ],
      "text/plain": [
       "| 0         | 5        | 25.000000 | 0.061145     | 7699999.996750     | 3640899.998239       | 652048.842838                   | 645456.622353                     |"
      ]
     },
     "metadata": {},
     "output_type": "display_data"
    },
    {
     "data": {
      "text/html": [
       "<pre>| 1         | 10       | 1.021278  | 0.125411     | 5161958.541498     | 2378274.413196       | 238487.414702                   | 268288.965931                     |</pre>"
      ],
      "text/plain": [
       "| 1         | 10       | 1.021278  | 0.125411     | 5161958.541498     | 2378274.413196       | 238487.414702                   | 268288.965931                     |"
      ]
     },
     "metadata": {},
     "output_type": "display_data"
    },
    {
     "data": {
      "text/html": [
       "<pre>| 2         | 16       | 5.106391  | 0.205128     | 2853276.284471     | 1723656.334668       | 110095.629627                   | 218026.531075                     |</pre>"
      ],
      "text/plain": [
       "| 2         | 16       | 5.106391  | 0.205128     | 2853276.284471     | 1723656.334668       | 110095.629627                   | 218026.531075                     |"
      ]
     },
     "metadata": {},
     "output_type": "display_data"
    },
    {
     "data": {
      "text/html": [
       "<pre>| 3         | 17       | 5.106391  | 0.230918     | 7711336.397800     | 1432820.585842       | 346890.870430                   | 182120.296005                     |</pre>"
      ],
      "text/plain": [
       "| 3         | 17       | 5.106391  | 0.230918     | 7711336.397800     | 1432820.585842       | 346890.870430                   | 182120.296005                     |"
      ]
     },
     "metadata": {},
     "output_type": "display_data"
    },
    {
     "data": {
      "text/html": [
       "<pre>| 4         | 22       | 1.195066  | 0.309959     | 195911.292892      | 1685803.381352       | 11261.199639                    | 208706.237733                     |</pre>"
      ],
      "text/plain": [
       "| 4         | 22       | 1.195066  | 0.309959     | 195911.292892      | 1685803.381352       | 11261.199639                    | 208706.237733                     |"
      ]
     },
     "metadata": {},
     "output_type": "display_data"
    },
    {
     "data": {
      "text/html": [
       "<pre>| 9         | 32       | 1.000000  | 0.416416     | 195004.598450      | 1681584.952857       | 7963.088969                     | 208203.991995                     |</pre>"
      ],
      "text/plain": [
       "| 9         | 32       | 1.000000  | 0.416416     | 195004.598450      | 1681584.952857       | 7963.088969                     | 208203.991995                     |"
      ]
     },
     "metadata": {},
     "output_type": "display_data"
    },
    {
     "data": {
      "text/html": [
       "<pre>+-----------+----------+-----------+--------------+--------------------+----------------------+---------------------------------+-----------------------------------+</pre>"
      ],
      "text/plain": [
       "+-----------+----------+-----------+--------------+--------------------+----------------------+---------------------------------+-----------------------------------+"
      ]
     },
     "metadata": {},
     "output_type": "display_data"
    },
    {
     "name": "stdout",
     "output_type": "stream",
     "text": [
      "RMSE on the full model (with multiple features): 47243.12590482871\n"
     ]
    },
    {
     "data": {
      "text/html": [
       "<pre>Linear regression:</pre>"
      ],
      "text/plain": [
       "Linear regression:"
      ]
     },
     "metadata": {},
     "output_type": "display_data"
    },
    {
     "data": {
      "text/html": [
       "<pre>--------------------------------------------------------</pre>"
      ],
      "text/plain": [
       "--------------------------------------------------------"
      ]
     },
     "metadata": {},
     "output_type": "display_data"
    },
    {
     "data": {
      "text/html": [
       "<pre>Number of examples          : 8275</pre>"
      ],
      "text/plain": [
       "Number of examples          : 8275"
      ]
     },
     "metadata": {},
     "output_type": "display_data"
    },
    {
     "data": {
      "text/html": [
       "<pre>Number of features          : 19</pre>"
      ],
      "text/plain": [
       "Number of features          : 19"
      ]
     },
     "metadata": {},
     "output_type": "display_data"
    },
    {
     "data": {
      "text/html": [
       "<pre>Number of unpacked features : 19</pre>"
      ],
      "text/plain": [
       "Number of unpacked features : 19"
      ]
     },
     "metadata": {},
     "output_type": "display_data"
    },
    {
     "data": {
      "text/html": [
       "<pre>Number of coefficients    : 8337</pre>"
      ],
      "text/plain": [
       "Number of coefficients    : 8337"
      ]
     },
     "metadata": {},
     "output_type": "display_data"
    },
    {
     "data": {
      "text/html": [
       "<pre>Starting L-BFGS</pre>"
      ],
      "text/plain": [
       "Starting L-BFGS"
      ]
     },
     "metadata": {},
     "output_type": "display_data"
    },
    {
     "data": {
      "text/html": [
       "<pre>--------------------------------------------------------</pre>"
      ],
      "text/plain": [
       "--------------------------------------------------------"
      ]
     },
     "metadata": {},
     "output_type": "display_data"
    },
    {
     "data": {
      "text/html": [
       "<pre>+-----------+----------+-----------+--------------+--------------------+----------------------+---------------------------------+-----------------------------------+</pre>"
      ],
      "text/plain": [
       "+-----------+----------+-----------+--------------+--------------------+----------------------+---------------------------------+-----------------------------------+"
      ]
     },
     "metadata": {},
     "output_type": "display_data"
    },
    {
     "data": {
      "text/html": [
       "<pre>| Iteration | Passes   | Step size | Elapsed Time | Training Max Error | Validation Max Error | Training Root-Mean-Square Error | Validation Root-Mean-Square Error |</pre>"
      ],
      "text/plain": [
       "| Iteration | Passes   | Step size | Elapsed Time | Training Max Error | Validation Max Error | Training Root-Mean-Square Error | Validation Root-Mean-Square Error |"
      ]
     },
     "metadata": {},
     "output_type": "display_data"
    },
    {
     "data": {
      "text/html": [
       "<pre>+-----------+----------+-----------+--------------+--------------------+----------------------+---------------------------------+-----------------------------------+</pre>"
      ],
      "text/plain": [
       "+-----------+----------+-----------+--------------+--------------------+----------------------+---------------------------------+-----------------------------------+"
      ]
     },
     "metadata": {},
     "output_type": "display_data"
    },
    {
     "data": {
      "text/html": [
       "<pre>Warning: Reached max step size.</pre>"
      ],
      "text/plain": [
       "Warning: Reached max step size."
      ]
     },
     "metadata": {},
     "output_type": "display_data"
    },
    {
     "data": {
      "text/html": [
       "<pre>| 0         | 5        | 25.000000 | 0.061318     | 7699999.996752     | 3119999.998442       | 652099.406661                   | 644344.185956                     |</pre>"
      ],
      "text/plain": [
       "| 0         | 5        | 25.000000 | 0.061318     | 7699999.996752     | 3119999.998442       | 652099.406661                   | 644344.185956                     |"
      ]
     },
     "metadata": {},
     "output_type": "display_data"
    },
    {
     "data": {
      "text/html": [
       "<pre>| 1         | 10       | 1.021350  | 0.123673     | 5162185.713782     | 2065250.398703       | 238347.124116                   | 266873.762328                     |</pre>"
      ],
      "text/plain": [
       "| 1         | 10       | 1.021350  | 0.123673     | 5162185.713782     | 2065250.398703       | 238347.124116                   | 266873.762328                     |"
      ]
     },
     "metadata": {},
     "output_type": "display_data"
    },
    {
     "data": {
      "text/html": [
       "<pre>| 2         | 16       | 5.106748  | 0.203245     | 2853800.859451     | 1742205.828129       | 109641.196658                   | 224197.777476                     |</pre>"
      ],
      "text/plain": [
       "| 2         | 16       | 5.106748  | 0.203245     | 2853800.859451     | 1742205.828129       | 109641.196658                   | 224197.777476                     |"
      ]
     },
     "metadata": {},
     "output_type": "display_data"
    },
    {
     "data": {
      "text/html": [
       "<pre>| 3         | 17       | 5.106748  | 0.224917     | 7653582.187047     | 1522001.232595       | 343767.267315                   | 201854.314970                     |</pre>"
      ],
      "text/plain": [
       "| 3         | 17       | 5.106748  | 0.224917     | 7653582.187047     | 1522001.232595       | 343767.267315                   | 201854.314970                     |"
      ]
     },
     "metadata": {},
     "output_type": "display_data"
    },
    {
     "data": {
      "text/html": [
       "<pre>| 4         | 22       | 1.199544  | 0.282052     | 195389.590129      | 1702335.648095       | 10580.681927                    | 216549.485102                     |</pre>"
      ],
      "text/plain": [
       "| 4         | 22       | 1.199544  | 0.282052     | 195389.590129      | 1702335.648095       | 10580.681927                    | 216549.485102                     |"
      ]
     },
     "metadata": {},
     "output_type": "display_data"
    },
    {
     "data": {
      "text/html": [
       "<pre>| 9         | 30       | 1.000000  | 0.425382     | 195004.361925      | 1717187.685777       | 7122.060567                     | 216488.900551                     |</pre>"
      ],
      "text/plain": [
       "| 9         | 30       | 1.000000  | 0.425382     | 195004.361925      | 1717187.685777       | 7122.060567                     | 216488.900551                     |"
      ]
     },
     "metadata": {},
     "output_type": "display_data"
    },
    {
     "data": {
      "text/html": [
       "<pre>+-----------+----------+-----------+--------------+--------------------+----------------------+---------------------------------+-----------------------------------+</pre>"
      ],
      "text/plain": [
       "+-----------+----------+-----------+--------------+--------------------+----------------------+---------------------------------+-----------------------------------+"
      ]
     },
     "metadata": {},
     "output_type": "display_data"
    },
    {
     "name": "stdout",
     "output_type": "stream",
     "text": [
      "RMSE on validation data: 216488.9005513987\n",
      "Model coefficients:\n",
      "+-------------+------------+---------------------+--------+\n",
      "|     name    |   index    |        value        | stderr |\n",
      "+-------------+------------+---------------------+--------+\n",
      "| (intercept) |    None    |  23866.68291814717  |  None  |\n",
      "|      id     | 6414100192 |  -40973.90592923652 |  None  |\n",
      "|      id     | 5631500400 | -139061.74092410642 |  None  |\n",
      "|      id     | 2487200875 |  76899.67561406926  |  None  |\n",
      "|      id     | 1954400510 |  39519.16367590811  |  None  |\n",
      "|      id     | 2008000270 |  34999.20539018339  |  None  |\n",
      "|      id     | 2414600126 |  -141720.6677446705 |  None  |\n",
      "|      id     | 1736800520 |  -13336.92961924152 |  None  |\n",
      "|      id     | 9297300055 | -117434.82633751005 |  None  |\n",
      "|      id     | 6865200140 |  16639.07654155232  |  None  |\n",
      "+-------------+------------+---------------------+--------+\n",
      "[8337 rows x 4 columns]\n",
      "Note: Only the head of the SFrame is printed.\n",
      "You can use print_rows(num_rows=m, num_columns=n) to print more rows and columns.\n"
     ]
    },
    {
     "data": {
      "image/png": "[encoded data removed]",
      "text/plain": [
       "<Figure size 640x480 with 1 Axes>"
      ]
     },
     "metadata": {},
     "output_type": "display_data"
    },
    {
     "name": "stdout",
     "output_type": "stream",
     "text": [
      "Feature: id, Coefficient: -40973.90592923652\n",
      "Feature: bedrooms, Coefficient: 9105.176656823367\n",
      "Feature: bathrooms, Coefficient: 21454.1263930928\n",
      "Feature: sqft_living, Coefficient: 29.1750667767785\n",
      "Feature: sqft_lot, Coefficient: 0.27061558148468084\n",
      "Feature: floors, Coefficient: 22512.003581802477\n",
      "Feature: waterfront, Coefficient: 436337.431906315\n",
      "Feature: view, Coefficient: 60188.17563390682\n",
      "Feature: condition, Coefficient: 7384.747755143765\n",
      "Feature: grade, Coefficient: 5260.315408712779\n",
      "Feature: sqft_above, Coefficient: 33.27522260546625\n",
      "Feature: sqft_basement, Coefficient: 76.91292330597564\n",
      "Feature: yr_built, Coefficient: 12.112901186209287\n",
      "Feature: yr_renovated, Coefficient: 34.169551323305754\n",
      "Feature: zipcode, Coefficient: 13112.551962101588\n",
      "Feature: lat, Coefficient: 505.0828116696075\n",
      "Feature: long, Coefficient: -195.35005574560176\n",
      "Feature: sqft_living15, Coefficient: 23.98813470530824\n",
      "Feature: sqft_lot15, Coefficient: 0.2991018780172629\n"
     ]
    }
   ],
   "source": [
    "import zipfile\n",
    "import os\n",
    "import turicreate as tc\n",
    "import matplotlib.pyplot as plt\n",
    "\n",
    "zip_file = '/root/lxyGveIvEemx8A5HK6Ls8g_ab278ffbede649f0881b19b2f0badaa8_home_data_small.sframe (2).zip'\n",
    "extract_path = '/root/home_data_small.sframe'\n",
    "\n",
    "with zipfile.ZipFile(zip_file, 'r') as zip_ref:\n",
    "    zip_ref.extractall('/root/')  \n",
    "\n",
    "extracted_files = os.listdir(extract_path)\n",
    "print(f\"Extracted files: {extracted_files}\")\n",
    "\n",
    "sales = tc.SFrame(extract_path)\n",
    "\n",
    "sales.head()\n",
    "\n",
    "columns_to_exclude = ['date']  # 'date' column is problematic\n",
    "selected_columns = [col for col in sales.column_names() if col not in columns_to_exclude]\n",
    "\n",
    "feature_columns = selected_columns.copy()\n",
    "feature_columns.remove('price')  # 'price' is target variable\n",
    "\n",
    "model_full = tc.linear_regression.create(sales, target='price', features=feature_columns)\n",
    "\n",
    "results_full = model_full.evaluate(sales)\n",
    "rmse_full = results_full['rmse']\n",
    "print(f\"RMSE on the full model (with multiple features): {rmse_full}\")\n",
    "\n",
    "train_data, validation_data = sales.random_split(0.95, seed=0)\n",
    "\n",
    "model = tc.linear_regression.create(train_data, target='price', features=feature_columns, validation_set=validation_data)\n",
    "\n",
    "# Get RMSE from the validation set\n",
    "validation_results = model.evaluate(validation_data)\n",
    "rmse_validation = validation_results['rmse']\n",
    "print(f\"RMSE on validation data: {rmse_validation}\")\n",
    "\n",
    "coefficients = model.coefficients\n",
    "print(\"Model coefficients:\")\n",
    "print(coefficients)\n",
    "\n",
    "predictions = model.predict(validation_data)\n",
    "\n",
    "plt.scatter(validation_data['sqft_living'], validation_data['price'], label='Actual', color='blue')\n",
    "plt.scatter(validation_data['sqft_living'], predictions, label='Predicted', color='red')\n",
    "plt.xlabel('Square Footage')\n",
    "plt.ylabel('Price')\n",
    "plt.legend()\n",
    "plt.show()\n",
    "\n",
    "for feature in feature_columns:\n",
    "    feature_coeff = coefficients[coefficients['name'] == feature]['value'][0]\n",
    "    print(f\"Feature: {feature}, Coefficient: {feature_coeff}\")\n"
   ]
  },
  {
   "cell_type": "code",
   "execution_count": null,
   "id": "e6c4f721",
   "metadata": {},
   "outputs": [],
   "source": []
  }
 ],
 "metadata": {
  "kernelspec": {
   "display_name": "Python3.7 (TuriCreate)",
   "language": "python",
   "name": "turicreate_env"
  },
  "language_info": {
   "codemirror_mode": {
    "name": "ipython",
    "version": 3
   },
   "file_extension": ".py",
   "mimetype": "text/x-python",
   "name": "python",
   "nbconvert_exporter": "python",
   "pygments_lexer": "ipython3",
   "version": "3.7.17"
  }
 },
 "nbformat": 4,
 "nbformat_minor": 5
}
